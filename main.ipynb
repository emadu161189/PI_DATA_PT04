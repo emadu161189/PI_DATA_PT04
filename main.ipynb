{
 "cells": [
  {
   "cell_type": "code",
   "execution_count": 7,
   "metadata": {},
   "outputs": [],
   "source": [
    "import pandas as pd\n",
    "import random\n",
    "from sklearn.metrics.pairwise import cosine_similarity"
   ]
  },
  {
   "cell_type": "code",
   "execution_count": 9,
   "metadata": {},
   "outputs": [
    {
     "data": {
      "text/plain": [
       "{'Año de lanzamiento con más horas jugadas para Género Accounting': '2015'}"
      ]
     },
     "execution_count": 9,
     "metadata": {},
     "output_type": "execute_result"
    }
   ],
   "source": [
    "def PlayTimeGenre(genero: str):\n",
    "    genero = genero.title()\n",
    "    filtro = [('genero', \"==\", genero)]\n",
    "    try:\n",
    "        df = pd.read_parquet('timeforgenre', filters=filtro )\n",
    "        max = df[df['playtime_forever'] == df['playtime_forever'].max()]\n",
    "        \n",
    "        return {f\"Año de lanzamiento con más horas jugadas para Género {genero}\" : str(max['release_date'].iloc[0])}\n",
    "  \n",
    "    except:\n",
    "        \n",
    "        return {f\"Error: Verifique que el dato '{genero}' sea correcto.\"}\n",
    "   \n",
    "PlayTimeGenre('Accounting')"
   ]
  },
  {
   "cell_type": "code",
   "execution_count": 8,
   "metadata": {},
   "outputs": [
    {
     "data": {
      "text/plain": [
       "{'Usuario con más horas jugadas para Género X': 'rebas_as_f-t',\n",
       " 'Horas jugadas': [{'Año': '2016', 'Horas': '84516'},\n",
       "  {'Año': '2015', 'Horas': '13500'},\n",
       "  {'Año': '2011', 'Horas': '6606'}]}"
      ]
     },
     "execution_count": 8,
     "metadata": {},
     "output_type": "execute_result"
    }
   ],
   "source": [
    "def UserForGenre(genero: str):\n",
    "    genero = genero.title()\n",
    "    filtro = [('genero', \"==\", genero)]\n",
    "    try:\n",
    "        df = pd.read_parquet('userforgenre', filters=filtro )\n",
    "        #usuario con mas horas jugadas en el genero\n",
    "        df_max = df.groupby('user_id')['playtime_forever'].sum().reset_index()\n",
    "        df_max = df_max[df_max['playtime_forever'] == df_max['playtime_forever'].max()]\n",
    "        #Top 3 años con mas horas jugadas\n",
    "        df_top = df[df['user_id'] == df_max['user_id'].iloc[0]]\n",
    "        df_top = df_top.nlargest(3, 'playtime_forever')\n",
    "\n",
    "        return {\"Usuario con más horas jugadas para Género X\" : str(df_max['user_id'].iloc[0]), \n",
    "                \"Horas jugadas\":[{\"Año\": str(df_top['release_date'].iloc[0]), \"Horas\": str(df_top['playtime_forever'].iloc[0])},\n",
    "                {\"Año\": str(df_top['release_date'].iloc[1]), \"Horas\": str(df_top['playtime_forever'].iloc[1])}, \n",
    "                {\"Año\": str(df_top['release_date'].iloc[2]), \"Horas\": str(df_top['playtime_forever'].iloc[2])}]}\n",
    "        \n",
    "    except:\n",
    "        \n",
    "        return {f\"Error: Verifique que el dato '{genero}' sea correcto.\"}\n",
    "\n",
    "UserForGenre('casual')"
   ]
  },
  {
   "cell_type": "code",
   "execution_count": 10,
   "metadata": {},
   "outputs": [
    {
     "data": {
      "text/plain": [
       "[{'Puesto 1': 'day of defeat'},\n",
       " {'Puesto 2': 'deathmatch classic'},\n",
       " {'Puesto 3': 'half-life source'}]"
      ]
     },
     "execution_count": 10,
     "metadata": {},
     "output_type": "execute_result"
    }
   ],
   "source": [
    "def UsersRecommend(anio: int):\n",
    "    filtro = [('posted', \"==\", anio)]\n",
    "    try:\n",
    "        df = pd.read_parquet('recommend', columns=['title', 'posted', 'puntaje_recomendacion'], filters=filtro)\n",
    "        df = df.nlargest(3, ['puntaje_recomendacion'])\n",
    "\n",
    "        return [{\"Puesto 1\" : df['title'].iloc[0]}, {\"Puesto 2\" : df['title'].iloc[1]},{\"Puesto 3\" : df['title'].iloc[2]}]\n",
    "    \n",
    "    except:\n",
    "\n",
    "        return 'Error: Ingrese un año diferente'\n",
    "\n",
    "UsersRecommend(2014)"
   ]
  },
  {
   "cell_type": "code",
   "execution_count": 6,
   "metadata": {},
   "outputs": [
    {
     "data": {
      "text/plain": [
       "'Error: Ingrese un año diferente'"
      ]
     },
     "execution_count": 6,
     "metadata": {},
     "output_type": "execute_result"
    }
   ],
   "source": [
    "def UsersNotRecommend(anio: int):\n",
    "    filtro = [('posted', \"==\", anio)]\n",
    "    try:\n",
    "        df = pd.read_parquet('recommend', columns=['title', 'posted', 'puntaje_recomendacion'], filters=filtro)\n",
    "        df = df.nsmallest(3, ['puntaje_recomendacion'])\n",
    "\n",
    "        return [{\"Puesto 1\" : df['title'].iloc[0]}, {\"Puesto 2\" : df['title'].iloc[1]},{\"Puesto 3\" : df['title'].iloc[2]}]\n",
    "    \n",
    "    except:\n",
    "\n",
    "        return 'Error: Ingrese un año diferente'\n",
    "    \n",
    "UsersNotRecommend(2011)"
   ]
  },
  {
   "cell_type": "code",
   "execution_count": 169,
   "metadata": {},
   "outputs": [
    {
     "data": {
      "text/plain": [
       "{'Negativo': 0, 'Neutral': 0, 'Positivo': 1}"
      ]
     },
     "execution_count": 169,
     "metadata": {},
     "output_type": "execute_result"
    }
   ],
   "source": [
    "def sentiment_analysis(anio: int):\n",
    "    filtro = [('release_date', \"==\", anio)]\n",
    "    try:\n",
    "        df = pd.read_parquet('sentiment_analysis', filters=filtro)\n",
    "        \n",
    "        return {\"Negativo\": df['negativo'].iloc[0], \"Neutral\": df['neutral'].iloc[0], \"Positivo\": df['positivo'].iloc[0]}\n",
    "    \n",
    "    except:\n",
    "\n",
    "        return 'Error: Ingrese un año diferente'\n",
    "    \n",
    "sentiment_analysis(1989)"
   ]
  },
  {
   "cell_type": "code",
   "execution_count": 170,
   "metadata": {},
   "outputs": [
    {
     "data": {
      "text/plain": [
       "{'Item ingresado': 'carmageddon max pack',\n",
       " 'Items recomendados': ['castaway paradise - town building sim',\n",
       "  'bloodlust shadowhunter',\n",
       "  'bus driver',\n",
       "  'child of light',\n",
       "  'braid']}"
      ]
     },
     "execution_count": 170,
     "metadata": {},
     "output_type": "execute_result"
    }
   ],
   "source": [
    "def recomendacion_juego(id_producto):\n",
    "   \n",
    "    try:\n",
    "        filtro_in = [('item_id', '==', id_producto)]\n",
    "        puntaje_recomendacion = pd.read_parquet('items_recomendacion', columns=['puntaje_recomendacion'])\n",
    "        filtro_mtz = [('puntaje_recomendacion', '>', puntaje_recomendacion['puntaje_recomendacion'].mean())]\n",
    "        entrada = pd.read_parquet('items_recomendacion', filters=filtro_in)\n",
    "        if entrada.empty:\n",
    "            return 'Juego inexistente'\n",
    "        datos_entrada = entrada[['item_id', 'title']]\n",
    "        matriz_entrada = entrada.drop(columns=['item_id', 'title'])\n",
    "        matriz = pd.read_parquet('items_recomendacion', filters=filtro_mtz)\n",
    "        datos_matriz = matriz[['item_id', 'title']]\n",
    "        matriz = matriz.drop(columns=['item_id', 'title'])\n",
    "        matriz = matriz.fillna(0)\n",
    "\n",
    "        similitud_coseno = cosine_similarity(matriz_entrada, matriz)\n",
    "        similitud_serie = pd.Series(similitud_coseno[0], index=matriz.index)\n",
    "        resultado = matriz.loc[similitud_serie.nlargest(6).index]\n",
    "        indices = resultado.index\n",
    "      \n",
    "        items = []\n",
    "        for elemento in indices:\n",
    "            titulo = datos_matriz.loc[elemento]\n",
    "            if titulo['item_id'].item() == datos_entrada['item_id'].item():\n",
    "                continue\n",
    "            items.append(titulo['title'])\n",
    "\n",
    "        return {\"Item ingresado\": datos_entrada['title'].iloc[0], \"Items recomendados\": [items[0], items[1], items[2], items[3], items[4]]}\n",
    "    \n",
    "    except:\n",
    "\n",
    "        return 'Error: Ingrese un item diferente'\n",
    " \n",
    "recomendacion_juego(282010)"
   ]
  },
  {
   "cell_type": "code",
   "execution_count": 171,
   "metadata": {},
   "outputs": [
    {
     "data": {
      "text/plain": [
       "{'Juegos recomendados para 76561197970982479': ['hitman 2 silent assassin',\n",
       "  'hitman blood money',\n",
       "  'hitman codename 47',\n",
       "  'revenge of the titans',\n",
       "  'csgo player profiles']}"
      ]
     },
     "execution_count": 171,
     "metadata": {},
     "output_type": "execute_result"
    }
   ],
   "source": [
    "\n",
    "def recomendacion_usuario(id_usuario):\n",
    "\n",
    "    try:\n",
    "        filtro_in = [('user_id', '==', id_usuario)]\n",
    "        df_juegos_usuario = pd.read_parquet('users_items', columns=['item_id', 'user_id'], filters=filtro_in)\n",
    "        flag = True\n",
    "        while flag:\n",
    "            item_id = df_juegos_usuario['item_id'].iloc[random.randint(0, len(df_juegos_usuario['item_id']))]\n",
    "            if item_id:\n",
    "                flag = False\n",
    "        filtro_id = [('item_id', '==', item_id)]\n",
    "        puntaje_recomendacion = pd.read_parquet('items_recomendacion', columns=['puntaje_recomendacion'])\n",
    "        filtro_mtz = [('puntaje_recomendacion', '>', puntaje_recomendacion['puntaje_recomendacion'].mean())]\n",
    "        entrada = pd.read_parquet('items_recomendacion', filters=filtro_id)\n",
    "        if entrada.empty:\n",
    "            return 'Intente nuevamente'\n",
    "        datos_entrada = entrada[['item_id', 'title']]\n",
    "        matriz_entrada = entrada.drop(columns=['item_id', 'title'])\n",
    "        matriz = pd.read_parquet('items_recomendacion', filters=filtro_mtz)\n",
    "        datos_matriz = matriz[['item_id', 'title']]\n",
    "        matriz = matriz.drop(columns=['item_id', 'title'])\n",
    "        matriz = matriz.fillna(0)\n",
    "        similitud_coseno = cosine_similarity(matriz_entrada, matriz)\n",
    "        similitud_serie = pd.Series(similitud_coseno[0], index=matriz.index)\n",
    "        resultado = matriz.loc[similitud_serie.nlargest(6).index]\n",
    "        indices = resultado.index\n",
    "      \n",
    "        items = []\n",
    "        for elemento in indices:\n",
    "            titulo = datos_matriz.loc[elemento]\n",
    "            if titulo['item_id'].item() == datos_entrada['item_id'].item():\n",
    "                continue\n",
    "            items.append(titulo['title'])\n",
    "\n",
    "        return {f\"Juegos recomendados para {id_usuario}\": [items[0], items[1], items[2], items[3], items[4]]}\n",
    "    \n",
    "    except:\n",
    "\n",
    "        return 'Error: Ingrese un item diferente'\n",
    " \n",
    "recomendacion_usuario('76561197970982479')"
   ]
  }
 ],
 "metadata": {
  "kernelspec": {
   "display_name": "venv",
   "language": "python",
   "name": "python3"
  },
  "language_info": {
   "codemirror_mode": {
    "name": "ipython",
    "version": 3
   },
   "file_extension": ".py",
   "mimetype": "text/x-python",
   "name": "python",
   "nbconvert_exporter": "python",
   "pygments_lexer": "ipython3",
   "version": "3.11.1"
  },
  "orig_nbformat": 4
 },
 "nbformat": 4,
 "nbformat_minor": 2
}
